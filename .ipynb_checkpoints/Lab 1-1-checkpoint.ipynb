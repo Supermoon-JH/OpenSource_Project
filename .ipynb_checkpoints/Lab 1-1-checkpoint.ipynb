{
 "cells": [
  {
   "cell_type": "code",
   "execution_count": null,
   "metadata": {},
   "outputs": [
    {
     "name": "stdout",
     "output_type": "stream",
     "text": [
      "===================\n",
      "Select operation.\n",
      "0.Exit\n",
      "1.Add:\n",
      "2.Subtract\n",
      "3.Multiply\n",
      "4.Divide\n",
      "Enter choice(0/1/2/3/4): 1\n",
      "Enter first number: 3\n",
      "Enter second number: 5\n",
      "3.0 + 5.0 = 8.0\n",
      "===================\n",
      "Select operation.\n",
      "0.Exit\n",
      "1.Add:\n",
      "2.Subtract\n",
      "3.Multiply\n",
      "4.Divide\n"
     ]
    }
   ],
   "source": [
    "# Program make a simple calculator\n",
    "\n",
    "# ******* Function Declaration ********\n",
    "def add(x, y):\n",
    "    return x + y\n",
    "\n",
    "def subtract(x, y):\n",
    "    return x - y\n",
    "\n",
    "def multiply(x, y):\n",
    "    return x * y\n",
    "\n",
    "def divide(x, y):\n",
    "    return x / y\n",
    "\n",
    "# ******* Body ***************\n",
    "while True:\n",
    "    print(\"===================\")\n",
    "    print(\"Select operation.\")\n",
    "    print(\"0.Exit\")\n",
    "    print(\"1.Add:\")\n",
    "    print(\"2.Subtract\")\n",
    "    print(\"3.Multiply\")\n",
    "    print(\"4.Divide\")\n",
    "    \n",
    "# Take input from the user\n",
    "    choice = input(\"Enter choice(0/1/2/3/4): \")\n",
    "    if choice == '0':\n",
    "        break\n",
    "    if (choice < '0') or (choice > '4'):\n",
    "        print(\"Invalid input\")\n",
    "        continue\n",
    "        \n",
    "    num1 = float(input(\"Enter first number: \"))\n",
    "    num2 = float(input(\"Enter second number: \"))\n",
    "    \n",
    "    if choice == '1':\n",
    "        print(num1,\"+\",num2,\"=\", add(num1, num2))\n",
    "        \n",
    "    elif choice == '2':\n",
    "        print(num1,\"-\",num2,\"=\", subtract(num1, num2))\n",
    "        \n",
    "    elif choice == '3':\n",
    "        print(num1,\"*\",num2,\"=\", multiply(num1, num2))\n",
    "    \n",
    "    else:\n",
    "        print(num1,\"/\",num2,\"=\", divide(num1, num2))"
   ]
  },
  {
   "cell_type": "code",
   "execution_count": null,
   "metadata": {},
   "outputs": [],
   "source": []
  }
 ],
 "metadata": {
  "kernelspec": {
   "display_name": "Python 3",
   "language": "python",
   "name": "python3"
  },
  "language_info": {
   "codemirror_mode": {
    "name": "ipython",
    "version": 3
   },
   "file_extension": ".py",
   "mimetype": "text/x-python",
   "name": "python",
   "nbconvert_exporter": "python",
   "pygments_lexer": "ipython3",
   "version": "3.8.5"
  }
 },
 "nbformat": 4,
 "nbformat_minor": 4
}
